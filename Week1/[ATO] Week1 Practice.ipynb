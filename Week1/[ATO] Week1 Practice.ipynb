{
 "cells": [
  {
   "cell_type": "markdown",
   "metadata": {},
   "source": [
    "![AlphaToOmega](https://i.imgur.com/JdERPuK.png)\n",
    "\n",
    "## Machine Learning Study Week1\n",
    "\n",
    "## : Lec 0 ~ 4\n",
    "\n",
    "### 2017년 12월 27일 안상호\n",
    "\n",
    "머신러닝, 텐서 플로우, 선형회귀\n",
    "\n",
    "---\n",
    "\n",
    "### 목차\n",
    "\n",
    "1. **Lec00 & Lec01**: 머신러닝의 기본 + TensorFlow 기초 \n",
    "2. **Lec02**: 선형회귀 기초 \n",
    "3. **Lec03**: Cost 최소화 알고리즘\n",
    "4. **Lec04**: 다변수 선형 회귀 \n",
    "5. **Optional**: Feature Scaling and Normal Equation\n",
    "\n",
    "---\n",
    "\n",
    "## Lec00: 머신러닝 OT \n",
    "\n",
    "---\n",
    "\n",
    "## Lec01: 머신러닝의 기본\n",
    "\n",
    "### Tensorflow의 설치 및 기본적인 operations\n",
    "\n",
    "+ TensorFlow란?\n",
    "\n",
    "> edges와 nodes로 구조화된 graph로 프로그램이 구성\n",
    "\n",
    "![](http://cfile29.uf.tistory.com/image/2256FA33596D8E70299A90)\n",
    "\n",
    "여기서 nodes는 어떤 동작이 일어나는지에 관한 operation이고 (쉽게 말해 함수)\n",
    "\n",
    "edges는 이러한 nodes를 동작시키기 위한 Data, Tensor이다.\n",
    "\n",
    "Data가 여러 Operation 들을 통해 연결되고 연산됨을 생각해보며 밑의 예제들을 풀어나가보자\n",
    "\n",
    "---\n",
    "\n",
    "### 1.1. Hello TensorFlow!\n",
    "\n",
    "- Check installation and version"
   ]
  },
  {
   "cell_type": "code",
   "execution_count": 1,
   "metadata": {},
   "outputs": [
    {
     "data": {
      "text/plain": [
       "'1.4.1'"
      ]
     },
     "execution_count": 1,
     "metadata": {},
     "output_type": "execute_result"
    }
   ],
   "source": [
    "import tensorflow as tf\n",
    "\n",
    "tf.__version__"
   ]
  },
  {
   "cell_type": "markdown",
   "metadata": {},
   "source": [
    "- 역시 프로그래밍은 \"Hello, World\" 부터 시작!"
   ]
  },
  {
   "cell_type": "code",
   "execution_count": 2,
   "metadata": {},
   "outputs": [
    {
     "name": "stdout",
     "output_type": "stream",
     "text": [
      "Hello, TensorFlow!\n"
     ]
    }
   ],
   "source": [
    "hello = tf.constant(\"Hello, TensorFlow!\") ### hello라는 node\n",
    "\n",
    "# start a TF session\n",
    "sess = tf.Session()\n",
    "\n",
    "# run the op and get result\n",
    "print(sess.run(hello)) "
   ]
  },
  {
   "cell_type": "markdown",
   "metadata": {},
   "source": [
    "---\n",
    "\n",
    "### 1.2. Computational Graph\n",
    "\n",
    "> TensorFlow로 코딩을 하면 크게 3단계로 나누어진다. \n",
    ">> 1. Init: 처음에 변수를 만들어 주는 단계\n",
    ">> 2. Build: 만들어진 변수들을 통해 모델을 만드는 단계\n",
    ">> 3. Run: 만들어진 모델에 데이터를 주어서 실행 or 그냥 실행 \n",
    "\n",
    "> 밑의 예제를 통해서는 텐서플로우가 어떠한 방법을 거쳐서 결과를 내는지를 보도록하자\n",
    "\n",
    "> P.S. 강의에서는 Build -> Feed&Run -> Update 순이다\n",
    "> [ML lab01](https://youtu.be/-57Ne86Ia8w)\n",
    "\n",
    "#### 1.2.1. Build graph(tensors) using TensorFlow operations"
   ]
  },
  {
   "cell_type": "code",
   "execution_count": 3,
   "metadata": {},
   "outputs": [
    {
     "name": "stdout",
     "output_type": "stream",
     "text": [
      "('node1:', <tf.Tensor 'Const_1:0' shape=() dtype=float32>, 'node2:', <tf.Tensor 'Const_2:0' shape=() dtype=float32>)\n",
      "('node3: ', <tf.Tensor 'Add:0' shape=() dtype=float32>)\n"
     ]
    }
   ],
   "source": [
    "node1 = tf.constant(3.0, tf.float32)\n",
    "node2 = tf.constant(4.0) # also tf.float32 implicitly\n",
    "node3 = tf.add(node1, node2)\n",
    "\n",
    "print(\"node1:\", node1, \"node2:\", node2)\n",
    "print(\"node3: \", node3)"
   ]
  },
  {
   "cell_type": "markdown",
   "metadata": {},
   "source": [
    "- 설명 \n",
    "\n",
    "    난 노드(op)야! 라고 말하고 있는 것을 확인할 수 있다.\n",
    "\n",
    "    즉, 노드를 실행을 위해서는 다른 방법이 필요!\n",
    "\n",
    "#### 1.2.2. Feed data and run graph sess.run(op)\n",
    "\n",
    "### and\n",
    "\n",
    "#### 1.2.3. Update variables in the graph (and return values)"
   ]
  },
  {
   "cell_type": "code",
   "execution_count": 4,
   "metadata": {},
   "outputs": [
    {
     "name": "stdout",
     "output_type": "stream",
     "text": [
      "('sess.run(node1, node2): ', [3.0, 4.0])\n",
      "('sess.run(node3): ', 7.0)\n"
     ]
    }
   ],
   "source": [
    "sess = tf.Session()\n",
    "print(\"sess.run(node1, node2): \", sess.run([node1, node2]))\n",
    "print(\"sess.run(node3): \", sess.run(node3))"
   ]
  },
  {
   "cell_type": "markdown",
   "metadata": {},
   "source": [
    "\n",
    "---\n",
    "\n",
    "### 1.3. Data Type\n",
    "\n",
    "> 텐서플로우는 뉴럴네트워크에 최적화되어 있는 개발 프레임웤이기 때문에, 그 자료형과, 실행 방식이 약간 일반적인 프로그래밍 방식과 상이하다. 그래서 삽질(?)을 많이했다\n",
    "\n",
    "[조대협의 블로그](http://bcho.tistory.com/1150)\n",
    "\n",
    "#### 1.3.1. 상수형 (Constant)\n",
    "\n",
    "간단히 말해서 상수인 값들을 할당한다\n",
    "\n",
    "- tf.constant(value, dtype=None, shape=None, name='Const', verify_shape=False)\n",
    "    + value: 상수 값\n",
    "    + dtype: 저장되는 데이터 타입. tf.float32와 같이 실수, 정수 등의 데이터 타입을 정의한다. \n",
    "    + shape: 행렬 차원 정의! m by n 행렬\n",
    "    + name: 상수의 이름을 정의한다. \n"
   ]
  },
  {
   "cell_type": "code",
   "execution_count": 4,
   "metadata": {},
   "outputs": [
    {
     "name": "stdout",
     "output_type": "stream",
     "text": [
      "sess.run(node1): 3.0\n"
     ]
    }
   ],
   "source": [
    "# Build\n",
    "node1 = tf.constant(3.0, tf.float32)\n",
    "\n",
    "# Run\n",
    "sess = tf.Session()\n",
    "print(\"sess.run(node1): {}\".format(sess.run(node1)))"
   ]
  },
  {
   "cell_type": "markdown",
   "metadata": {},
   "source": [
    "#### 1.3.2. 플레이스 홀더 (Placeholder)\n",
    "\n",
    "간단히 말해 빈 변수를 만들어주고, 값이 입력 되기를 기다리는 것이다!\n",
    "\n",
    "이렇게 해서 모델을 먼저 만들고나면 어떤 값이든 부여할 수 있게 된다. \n",
    "\n",
    "즉, 학습을 위한 학습용 데이터 타입!\n",
    "\n",
    "- tf.tf.placeholder(dtype,shape,name) \n",
    "    + dytpe: 저장되는 데이터 타입\n",
    "    + shape: 행렬 차원 정의! m by n 행렬\n",
    "    + name: placeholder의 이름"
   ]
  },
  {
   "cell_type": "code",
   "execution_count": 5,
   "metadata": {},
   "outputs": [
    {
     "name": "stdout",
     "output_type": "stream",
     "text": [
      "sess.run(node1): 3.0\n",
      "sess.run(node1): 1.0\n"
     ]
    }
   ],
   "source": [
    "# Build\n",
    "\n",
    "node_data1 = 3.0\n",
    "node_data2 = 1.0\n",
    "node1 = tf.placeholder(tf.float32)\n",
    "\n",
    "# Run\n",
    "sess = tf.Session()\n",
    "print(\"sess.run(node1): {}\".format(sess.run(node1, feed_dict={node1: node_data1})))\n",
    "print(\"sess.run(node1): {}\".format(sess.run(node1, feed_dict={node1: node_data2})))"
   ]
  },
  {
   "cell_type": "markdown",
   "metadata": {},
   "source": [
    "`feed_dict` 로 데이터를 할당해주는 것에 주목하자 \n",
    "\n",
    "#### 1.3.3. 변수형 (Variable)\n",
    "\n",
    "모델을 통한 학습이 진행될 때, 계속해서 값을 \n",
    "\n",
    "업데이트하는 식으로 바꾸어주어야 하는 값들이 있다.\n",
    "\n",
    "그 변수들을 위한 자료형!\n",
    "\n",
    "`trainable` 값, 즉 학습시 tensorflow가 변경 가능한 값 \n",
    "\n",
    "- tf.Variable.__init__(initial_value=None, trainable=True, collections=None, validate_shape=True, caching_device=None, name=None, variable_def=None, dtype=None, expected_shape=None, import_scope=None)"
   ]
  },
  {
   "cell_type": "code",
   "execution_count": 6,
   "metadata": {},
   "outputs": [
    {
     "name": "stdout",
     "output_type": "stream",
     "text": [
      "[  2.   4.   6.   8.  10.]\n"
     ]
    }
   ],
   "source": [
    "node_data = [1,2,3,4,5]\n",
    "\n",
    "x = tf.placeholder(dtype=tf.float32)\n",
    "\n",
    "W = tf.Variable([2],dtype=tf.float32)\n",
    "\n",
    "y = W*x\n",
    "\n",
    "sess = tf.Session()\n",
    "sess.run(tf.global_variables_initializer())\n",
    "\n",
    "result = sess.run(y,feed_dict={x:node_data})\n",
    "\n",
    "print(result)"
   ]
  },
  {
   "cell_type": "markdown",
   "metadata": {},
   "source": [
    "밑에서 학습에 따라 변화하는 W를 보도록 하자\n",
    "\n",
    "---\n",
    "\n",
    "## Lec02: 선형 회귀 (Linear Regression) 기초\n",
    "\n",
    "### TensorFlow로 간단한 linear regression을 구현\n",
    "\n",
    "> 상관 관계에 관해서는 다들 한번씩 들어보았을 것이다. 그렇지만 두변수가 높은 상관 관계를 보이고 있다고 해서 이것들 간에 인과관계가 있는 것은 아니다. 바로 이 회귀 분석 방법이 인과관계를 찾아가는 과정이라고 생각하면 된다. 다음과 같은 Step을 따른다.\n",
    "\n",
    ">> **Step1**: 가설 설정 - `Hypothesis` (Build)\n",
    "\n",
    ">> **Step2**: 비용 계산식 설정 - `Cost` (Build)\n",
    "\n",
    ">> **Step3**: 비용 최소화식 설정 - `Gradient Descent` (Build)\n",
    "\n",
    ">> **Step4**: 실행 (Run)\n",
    "\n",
    "---\n",
    "\n",
    "### 2.1. Hypothesis 설정 \n",
    "\n",
    "$$H(x) = Wx + b$$\n",
    "\n",
    "- **Def**\n",
    "    + X에 대한 Y 값을 예측해주는 가설"
   ]
  },
  {
   "cell_type": "code",
   "execution_count": 7,
   "metadata": {},
   "outputs": [],
   "source": [
    "import tensorflow as tf\n",
    "\n",
    "tf.set_random_seed(777)  # 재연을 위한 난수표\n",
    "\n",
    "# X and Y data\n",
    "x_train = [1, 2, 3]\n",
    "y_train = [1, 2, 3]\n",
    "\n",
    "W = tf.Variable(tf.random_normal([1]), name= 'Weight')\n",
    "b = tf.Variable(tf.random_normal([1]), name= 'bias')\n",
    "\n",
    "hypothesis = x_train*W + b"
   ]
  },
  {
   "cell_type": "markdown",
   "metadata": {},
   "source": [
    "---\n",
    "\n",
    "### 2.2. Cost 계산\n",
    "\n",
    "$$cost(W,b) = \\frac{1}{m}\\sum_{i=1}^{m} (H(x^{(i)}) - y^{(i)})^2$$\n",
    "\n",
    "- **Def**\n",
    "    + 우리가 만든 식에 따른 예측 값이 실제 y 값과 얼마나 차이가 나는가?\n",
    "    \n",
    "    > H는 예측 값, y는 실제 값"
   ]
  },
  {
   "cell_type": "code",
   "execution_count": 8,
   "metadata": {},
   "outputs": [],
   "source": [
    "# cost/loss function\n",
    "cost = tf.reduce_mean(tf.square(hypothesis - y_train))"
   ]
  },
  {
   "cell_type": "markdown",
   "metadata": {},
   "source": [
    "`tf.square()` : 제곱 (2)\n",
    "\n",
    "`tf.reduce_mean()`: 평균 내주는 것 (1/m) \n",
    "\n",
    "---\n",
    "\n",
    "### 2.3. Cost 최소화"
   ]
  },
  {
   "cell_type": "code",
   "execution_count": 9,
   "metadata": {},
   "outputs": [],
   "source": [
    "# Minimize\n",
    "optimizer = tf.train.GradientDescentOptimizer(learning_rate=0.01)\n",
    "train = optimizer.minimize(cost)"
   ]
  },
  {
   "cell_type": "markdown",
   "metadata": {},
   "source": [
    "---\n",
    "\n",
    "### 2.4. Run"
   ]
  },
  {
   "cell_type": "code",
   "execution_count": 10,
   "metadata": {},
   "outputs": [],
   "source": [
    "# Launch the graph in a session.\n",
    "sess = tf.Session()\n",
    "\n",
    "# Initializes global variables in the graph.\n",
    "sess.run(tf.global_variables_initializer())"
   ]
  },
  {
   "cell_type": "markdown",
   "metadata": {},
   "source": [
    "1. 세션 열고\n",
    "2. `tf.global_variables_initializer()`: 변수형과 세트! 그래프를 실행하기 전에 초기화하여 W에 지정한 값이 변수에 지정되도록 한다"
   ]
  },
  {
   "cell_type": "code",
   "execution_count": 11,
   "metadata": {},
   "outputs": [
    {
     "name": "stdout",
     "output_type": "stream",
     "text": [
      "Stpe: 0, Cost: 20.7623004913, Weight: [-1.05880177], bias: [-0.11754983]\n",
      "Stpe: 200, Cost: 0.0238858964294, Weight: [ 0.82049912], bias: [ 0.4080478]\n",
      "Stpe: 400, Cost: 0.00912080984563, Weight: [ 0.88907933], bias: [ 0.25214887]\n",
      "Stpe: 600, Cost: 0.00348277133889, Weight: [ 0.93145776], bias: [ 0.15581261]\n",
      "Stpe: 800, Cost: 0.00132989371195, Weight: [ 0.957645], bias: [ 0.0962828]\n",
      "Stpe: 1000, Cost: 0.000507819058839, Weight: [ 0.97382718], bias: [ 0.05949693]\n",
      "Stpe: 1200, Cost: 0.000193909931113, Weight: [ 0.98382676], bias: [ 0.03676552]\n",
      "Stpe: 1400, Cost: 7.40457689972e-05, Weight: [ 0.99000591], bias: [ 0.02271891]\n",
      "Stpe: 1600, Cost: 2.82737673842e-05, Weight: [ 0.9938243], bias: [ 0.0140388]\n",
      "Stpe: 1800, Cost: 1.07965161078e-05, Weight: [ 0.99618381], bias: [ 0.00867511]\n",
      "Stpe: 2000, Cost: 4.12263989347e-06, Weight: [ 0.99764174], bias: [ 0.00536075]\n"
     ]
    }
   ],
   "source": [
    "# Fit the line\n",
    "for step in range(2001):\n",
    "    sess.run(train)\n",
    "    if step % 200 == 0:\n",
    "        print(\"Stpe: {}, Cost: {}, Weight: {}, bias: {}\".format(step, sess.run(cost), sess.run(W), sess.run(b)))"
   ]
  },
  {
   "cell_type": "markdown",
   "metadata": {},
   "source": [
    "200번의 연산마다 Cost, Weight, bias 순으로 출력해보았다.\n",
    "\n",
    "데이터 셋에서 생각할 수 있는\n",
    "\n",
    "$y = x$ 가 $y = 0.997x + 0.005$로 거의 근사 값에 도달 했음을 알 수 있다.\n",
    "\n",
    "### Placeholder Version"
   ]
  },
  {
   "cell_type": "code",
   "execution_count": 12,
   "metadata": {},
   "outputs": [
    {
     "name": "stdout",
     "output_type": "stream",
     "text": [
      "(0, 9.5306149, array([ 0.41279173], dtype=float32), array([ 0.65492594], dtype=float32))\n",
      "(200, 0.0032533661, array([ 1.03690577], dtype=float32), array([ 0.96675861], dtype=float32))\n",
      "(400, 0.00083946588, array([ 1.01874697], dtype=float32), array([ 1.03231752], dtype=float32))\n",
      "(600, 0.00021661093, array([ 1.0095228], dtype=float32), array([ 1.06561923], dtype=float32))\n",
      "(800, 5.5890334e-05, array([ 1.00483716], dtype=float32), array([ 1.08253598], dtype=float32))\n",
      "(1000, 1.4422332e-05, array([ 1.00245726], dtype=float32), array([ 1.09112847], dtype=float32))\n",
      "(1200, 3.7224386e-06, array([ 1.00124824], dtype=float32), array([ 1.09549308], dtype=float32))\n",
      "(1400, 9.6060671e-07, array([ 1.00063431], dtype=float32), array([ 1.09771037], dtype=float32))\n",
      "(1600, 2.4803353e-07, array([ 1.00032246], dtype=float32), array([ 1.0988363], dtype=float32))\n",
      "(1800, 6.4208244e-08, array([ 1.00016379], dtype=float32), array([ 1.09940815], dtype=float32))\n",
      "(2000, 1.6620209e-08, array([ 1.00008345], dtype=float32), array([ 1.0996989], dtype=float32))\n"
     ]
    }
   ],
   "source": [
    "W = tf.Variable(tf.random_normal([1]), name= 'Weight')\n",
    "b = tf.Variable(tf.random_normal([1]), name= 'bias')\n",
    "\n",
    "X = tf.placeholder(tf.float32, shape=[None]) ### shope = None 무슨 값들어와도 상관 없음 \n",
    "y = tf.placeholder(tf.float32, shape=[None])\n",
    "\n",
    "hypothesis = X*W + b\n",
    "cost = tf.reduce_mean(tf.square(hypothesis - y))\n",
    "\n",
    "optimizer = tf.train.GradientDescentOptimizer(learning_rate=0.01)\n",
    "train = optimizer.minimize(cost)\n",
    "\n",
    "sess = tf.Session()\n",
    "# Initializes global variables in the graph.\n",
    "sess.run(tf.global_variables_initializer())\n",
    "\n",
    "for step in range(2001):\n",
    "    cost_val, W_val, b_val, _ = sess.run([cost, W, b, train], feed_dict = {X: [1,2,3,4,5], y: [2.1,3.1,4.1,5.1,6.1]})\n",
    "    \n",
    "    if step % 200 == 0:\n",
    "        print(step, cost_val, W_val, b_val)"
   ]
  },
  {
   "cell_type": "markdown",
   "metadata": {},
   "source": [
    "$y = x + 1.1$ 이 $y = 1.000x + 1.099$으로 거의 근사 값에 도달 했음을 알 수 있다.\n",
    "\n",
    "### Test out model"
   ]
  },
  {
   "cell_type": "code",
   "execution_count": 13,
   "metadata": {},
   "outputs": [
    {
     "name": "stdout",
     "output_type": "stream",
     "text": [
      "[ 6.10011625]\n",
      "[ 3.5999074]\n",
      "[ 2.59982395  4.59999084]\n"
     ]
    }
   ],
   "source": [
    "print(sess.run(hypothesis, feed_dict = {X: [5]}))\n",
    "print(sess.run(hypothesis, feed_dict = {X: [2.5]}))\n",
    "print(sess.run(hypothesis, feed_dict = {X: [1.5, 3.5]}))"
   ]
  },
  {
   "cell_type": "markdown",
   "metadata": {},
   "source": [
    "---\n",
    "\n",
    "## Lec03: Cost 최소화 알고리즘\n",
    "\n",
    "## Linear Regression의 cost 최소화의 TensorFlow 구현\n",
    "\n",
    "$$cost(W) = \\frac{1}{m}\\sum_{i=1}^{m} (W(x^{(i)}) - y^{(i)})^2$$\n",
    "\n",
    "$$cost(W) = \\frac{1}{2m}\\sum_{i=1}^{m} (W(x^{(i)}) - y^{(i)})^2$$\n",
    "\n",
    "> 미분시 수식을 간단하게 하기 위한 것\n",
    ">> 대표적인 cost 최소화 알고리즘인 Gradient Descent 사용\n",
    "\n",
    "$$W := W - \\alpha \\frac{\\partial}{\\partial W}cost(W)$$\n",
    "$$W := W - \\alpha \\frac{1}{m} \\sum_{i=1}^{m} (W(x^{(i)}) - y^{(i)})x^{(i)}$$\n",
    "\n",
    "> Cost Function이 반드시 Convex 형태가 되게 할것 (오목 그래프)\n",
    ">> 이렇게 해야 어디서 출발해도 한점으로 수렴하게 된다\n",
    "\n",
    "<br>\n",
    "\n",
    "+ Convex Function 여부 확인하기\n"
   ]
  },
  {
   "cell_type": "code",
   "execution_count": 14,
   "metadata": {},
   "outputs": [
    {
     "data": {
      "image/png": "[encoded data removed]",
      "text/plain": [
       "<matplotlib.figure.Figure at 0x7f38afa43b50>"
      ]
     },
     "metadata": {},
     "output_type": "display_data"
    }
   ],
   "source": [
    "import tensorflow as tf\n",
    "import matplotlib.pyplot as plt\n",
    "tf.set_random_seed(777)  # for reproducibility\n",
    "\n",
    "X = [1, 2, 3]\n",
    "Y = [1, 2, 3]\n",
    "\n",
    "W = tf.placeholder(tf.float32)\n",
    "\n",
    "# Our hypothesis for linear model X * W\n",
    "hypothesis = X * W\n",
    "\n",
    "# cost/loss function\n",
    "cost = tf.reduce_mean(tf.square(hypothesis - Y))\n",
    "\n",
    "# Launch the graph in a session.\n",
    "sess = tf.Session()\n",
    "\n",
    "# Variables for plotting cost function\n",
    "W_history = []\n",
    "cost_history = []\n",
    "\n",
    "for i in range(-30, 50): \n",
    "    curr_W = i * 0.1\n",
    "    curr_cost = sess.run(cost, feed_dict={W: curr_W})\n",
    "    W_history.append(curr_W)\n",
    "    cost_history.append(curr_cost)\n",
    "\n",
    "# Show the cost function\n",
    "%matplotlib inline\n",
    "\n",
    "plt.plot(W_history, cost_history)\n",
    "plt.show()"
   ]
  },
  {
   "cell_type": "markdown",
   "metadata": {},
   "source": [
    "---\n",
    "\n",
    "### 3.1. Build - Init"
   ]
  },
  {
   "cell_type": "code",
   "execution_count": 15,
   "metadata": {},
   "outputs": [],
   "source": [
    "tf.set_random_seed(777)  # for reproducibility\n",
    "\n",
    "x_data = [1, 2, 3]\n",
    "y_data = [1, 2, 3]\n",
    "\n",
    "W = tf.Variable(tf.random_normal([1]), name= 'Weight')\n",
    "\n",
    "X = tf.placeholder(tf.float32)\n",
    "Y = tf.placeholder(tf.float32)\n",
    "\n",
    "cost = tf.reduce_mean(tf.square(W*X - Y))"
   ]
  },
  {
   "cell_type": "markdown",
   "metadata": {},
   "source": [
    "---\n",
    "\n",
    "### 3.2. Build - Minimize"
   ]
  },
  {
   "cell_type": "code",
   "execution_count": 16,
   "metadata": {},
   "outputs": [],
   "source": [
    "# Minimize: Gradient Descent using derivative: W -= learning_rate * derivative\n",
    "learning_rate = 0.1\n",
    "gradient = tf.reduce_mean((W * X - Y) * X)\n",
    "descent = W - learning_rate * gradient\n",
    "update = W.assign(descent)"
   ]
  },
  {
   "cell_type": "markdown",
   "metadata": {},
   "source": [
    "---\n",
    "\n",
    "### 3.3. Run - Graph"
   ]
  },
  {
   "cell_type": "code",
   "execution_count": 17,
   "metadata": {},
   "outputs": [
    {
     "name": "stdout",
     "output_type": "stream",
     "text": [
      "(0, 0.043867558, array([ 0.90304542], dtype=float32))\n",
      "(1, 0.012477879, array([ 0.94829088], dtype=float32))\n",
      "(2, 0.0035492636, array([ 0.97242182], dtype=float32))\n",
      "(3, 0.0010095664, array([ 0.98529166], dtype=float32))\n",
      "(4, 0.00028716505, array([ 0.99215555], dtype=float32))\n",
      "(5, 8.1682148e-05, array([ 0.99581629], dtype=float32))\n",
      "(6, 2.3233662e-05, array([ 0.9977687], dtype=float32))\n",
      "(7, 6.6086832e-06, array([ 0.99880999], dtype=float32))\n",
      "(8, 1.8797629e-06, array([ 0.99936533], dtype=float32))\n",
      "(9, 5.3466027e-07, array([ 0.99966151], dtype=float32))\n",
      "(10, 1.5213425e-07, array([ 0.99981946], dtype=float32))\n",
      "(11, 4.323115e-08, array([ 0.99990374], dtype=float32))\n",
      "(12, 1.2296725e-08, array([ 0.99994868], dtype=float32))\n",
      "(13, 3.4896896e-09, array([ 0.99997264], dtype=float32))\n",
      "(14, 9.9691633e-10, array([ 0.9999854], dtype=float32))\n",
      "(15, 2.8358826e-10, array([ 0.99999219], dtype=float32))\n",
      "(16, 8.0248697e-11, array([ 0.99999583], dtype=float32))\n",
      "(17, 2.3405278e-11, array([ 0.99999774], dtype=float32))\n",
      "(18, 6.6317321e-12, array([ 0.99999881], dtype=float32))\n",
      "(19, 1.9291235e-12, array([ 0.99999934], dtype=float32))\n",
      "(20, 5.163277e-13, array([ 0.99999964], dtype=float32))\n"
     ]
    }
   ],
   "source": [
    "# Launch the graph in a session.\n",
    "sess = tf.Session()\n",
    "# Initializes global variables in the graph.\n",
    "sess.run(tf.global_variables_initializer())\n",
    "\n",
    "for step in range(21):\n",
    "    sess.run(update, feed_dict={X: x_data, Y: y_data})\n",
    "    print(step, sess.run(cost, feed_dict={X: x_data, Y: y_data}), sess.run(W))"
   ]
  },
  {
   "cell_type": "markdown",
   "metadata": {},
   "source": [
    "---\n",
    "\n",
    "### 3.4. GradientDescentOptimizer 사용"
   ]
  },
  {
   "cell_type": "code",
   "execution_count": 18,
   "metadata": {},
   "outputs": [],
   "source": [
    "tf.set_random_seed(777)  # for reproducibility\n",
    "\n",
    "x_data = [1, 2, 3]\n",
    "y_data = [1, 2, 3]\n",
    "\n",
    "# W = tf.Variable(tf.random_normal([1]), name= 'Weight')\n",
    "W = tf.Variable(-300.0)\n",
    "X = tf.placeholder(tf.float32)\n",
    "Y = tf.placeholder(tf.float32)\n",
    "\n",
    "cost = tf.reduce_mean(tf.square(W*X - Y))\n",
    "\n",
    "optimizer = tf.train.GradientDescentOptimizer(learning_rate=0.1)\n",
    "train = optimizer.minimize(cost)"
   ]
  },
  {
   "cell_type": "code",
   "execution_count": 19,
   "metadata": {},
   "outputs": [
    {
     "name": "stdout",
     "output_type": "stream",
     "text": [
      "(0, -300.0)\n",
      "(1, -19.06665)\n",
      "(2, -0.33777618)\n",
      "(3, 0.910815)\n",
      "(4, 0.99405432)\n",
      "(5, 0.99960363)\n",
      "(6, 0.9999736)\n",
      "(7, 0.99999821)\n",
      "(8, 0.99999988)\n",
      "(9, 1.0)\n",
      "(10, 1.0)\n",
      "(11, 1.0)\n",
      "(12, 1.0)\n",
      "(13, 1.0)\n",
      "(14, 1.0)\n",
      "(15, 1.0)\n",
      "(16, 1.0)\n",
      "(17, 1.0)\n",
      "(18, 1.0)\n",
      "(19, 1.0)\n",
      "(20, 1.0)\n"
     ]
    }
   ],
   "source": [
    "# Launch the graph in a session.\n",
    "sess = tf.Session()\n",
    "# Initializes global variables in the graph.\n",
    "sess.run(tf.global_variables_initializer())\n",
    "\n",
    "for step in range(21):\n",
    "    print(step, sess.run(W))\n",
    "    sess.run(train, feed_dict={X: x_data, Y: y_data})\n",
    "#     sess.run(train, feed_dict={X: x_data, Y: y_data})\n",
    "#     print(step, sess.run(cost, feed_dict={X: x_data, Y: y_data}), sess.run(W))"
   ]
  },
  {
   "cell_type": "markdown",
   "metadata": {},
   "source": [
    "# Quiz! \n",
    "\n",
    "다들 강의에서 외부에 있는 데이터를 가져오는 방법은 배우셨을 것입니다!\n",
    "\n",
    "다들 새로운 데이터를 가지고 회귀모델을 만들어 보도록합시다.\n",
    "\n",
    "준비한 데이터에 관한 설명입니다. \n",
    "\n",
    "> The first column is the population of a city \n",
    "\n",
    "> the second column is the profit of a food truck in that city.\n",
    "\n",
    "이제 아래 질문에 대한 답을 찾아주세요!"
   ]
  },
  {
   "cell_type": "code",
   "execution_count": 21,
   "metadata": {},
   "outputs": [],
   "source": [
    "import tensorflow as tf\n",
    "import numpy as np\n",
    "\n",
    "tf.set_random_seed(777)\n",
    "\n",
    "# Data Load\n",
    "data = np.loadtxt('data/ex1data1.txt', delimiter=',')\n",
    "\n",
    "X_data = data[:,0]\n",
    "y_data = data[:,1]"
   ]
  },
  {
   "cell_type": "markdown",
   "metadata": {},
   "source": [
    "- `R`로 치면 `ggplot2`와 비슷한 `matplotlib`으로 데이터의 시각화를 해보십니다."
   ]
  },
  {
   "cell_type": "code",
   "execution_count": 22,
   "metadata": {},
   "outputs": [
    {
     "data": {
      "text/plain": [
       "Text(0,0.5,u'Profit in $10,000s')"
      ]
     },
     "execution_count": 22,
     "metadata": {},
     "output_type": "execute_result"
    },
    {
     "data": {
      "image/png": "[encoded data removed]",
      "text/plain": [
       "<matplotlib.figure.Figure at 0x7f38643ddad0>"
      ]
     },
     "metadata": {},
     "output_type": "display_data"
    }
   ],
   "source": [
    "import matplotlib.pyplot as plt\n",
    "\n",
    "plt.scatter(X_data, y_data, s=30, c='r', marker='x', linewidths=1)\n",
    "plt.xlim(4,24)\n",
    "plt.xlabel('Population of City in 10,000s')\n",
    "plt.ylabel('Profit in $10,000s')"
   ]
  },
  {
   "cell_type": "markdown",
   "metadata": {},
   "source": [
    "+ 위 데이터에 적합한 Weight와 bias를 구하시오"
   ]
  },
  {
   "cell_type": "code",
   "execution_count": 25,
   "metadata": {},
   "outputs": [],
   "source": [
    "### Your Code"
   ]
  },
  {
   "cell_type": "markdown",
   "metadata": {},
   "source": [
    "+ 인구 값이 `6.1101` 일 때 푸드트럭의 예상 수익은 얼마입니까?"
   ]
  },
  {
   "cell_type": "code",
   "execution_count": 26,
   "metadata": {},
   "outputs": [],
   "source": [
    "### Your Code"
   ]
  },
  {
   "cell_type": "markdown",
   "metadata": {},
   "source": [
    "---\n",
    "\n",
    "## Lec04: 다변수 선형 회귀\n",
    "\n",
    "## multi-variable linear regression을 TensorFlow에서 구현하기\n",
    "\n",
    "---\n",
    "\n",
    "### 4.1. without Matrix\n",
    "\n",
    "#### 4.1.1. Build - init"
   ]
  },
  {
   "cell_type": "code",
   "execution_count": 23,
   "metadata": {},
   "outputs": [
    {
     "name": "stdout",
     "output_type": "stream",
     "text": [
      "Tensor(\"add_4:0\", dtype=float32)\n"
     ]
    }
   ],
   "source": [
    "import tensorflow as tf\n",
    "tf.set_random_seed(777)  # for reproducibility\n",
    "\n",
    "x1_data = [73., 93., 89., 96., 73.] \n",
    "x2_data = [80., 88., 91., 98., 66.] \n",
    "x3_data = [75., 93., 90., 100., 70.] \n",
    "\n",
    "y_data = [152., 185., 180., 196., 142.]\n",
    "\n",
    "# placeholders for a tensor that will be always fed.\n",
    "x1 = tf.placeholder(tf.float32)\n",
    "x2 = tf.placeholder(tf.float32)\n",
    "x3 = tf.placeholder(tf.float32)\n",
    "\n",
    "Y = tf.placeholder(tf.float32)\n",
    "\n",
    "w1 = tf.Variable(tf.random_normal([1]), name='weight1')\n",
    "w2 = tf.Variable(tf.random_normal([1]), name='weight2')\n",
    "w3 = tf.Variable(tf.random_normal([1]), name='weight3')\n",
    "b = tf.Variable(tf.random_normal([1]), name='bias')\n",
    "\n",
    "hypothesis = x1 * w1 + x2 * w2 + x3 * w3 + b\n",
    "print(hypothesis)"
   ]
  },
  {
   "cell_type": "markdown",
   "metadata": {},
   "source": [
    "#### 4.1.2. Build - minimize"
   ]
  },
  {
   "cell_type": "code",
   "execution_count": 24,
   "metadata": {},
   "outputs": [],
   "source": [
    "# cost/loss function\n",
    "cost = tf.reduce_mean(tf.square(hypothesis - Y))\n",
    "\n",
    "# Minimize. Need a very small learning rate for this data set\n",
    "optimizer = tf.train.GradientDescentOptimizer(learning_rate=1e-5)\n",
    "train = optimizer.minimize(cost)"
   ]
  },
  {
   "cell_type": "markdown",
   "metadata": {},
   "source": [
    "#### 4.1.3. Run - Graph"
   ]
  },
  {
   "cell_type": "code",
   "execution_count": 27,
   "metadata": {},
   "outputs": [
    {
     "name": "stdout",
     "output_type": "stream",
     "text": [
      "Step: 0 Cost: 75184.25 \n",
      "Prediction:\n",
      " [ -82.44986725 -114.04092407 -104.40079498 -115.73933411  -89.22245789]  Weight: [-0.50869608] | [ 1.32636857] | [-0.57816505]\n",
      "Step: 200 Cost: 37.1485404968 \n",
      "Prediction:\n",
      " [ 160.29223633  178.63548279  183.50038147  197.83311462  134.19862366]  Weight: [ 0.14281878] | [ 1.84976411] | [ 0.03848489]\n",
      "Step: 400 Cost: 33.3534584045 \n",
      "Prediction:\n",
      " [ 159.83123779  178.95144653  183.35902405  197.73156738  134.6126709 ]  Weight: [ 0.1961917] | [ 1.78234279] | [ 0.05230054]\n",
      "Step: 600 Cost: 29.9481868744 \n",
      "Prediction:\n",
      " [ 159.39453125  179.25074768  183.22509766  197.63542175  135.00485229]  Weight: [ 0.24673891] | [ 1.71847367] | [ 0.06540171]\n",
      "Step: 800 Cost: 26.8927574158 \n",
      "Prediction:\n",
      " [ 158.98083496  179.53425598  183.09825134  197.54440308  135.37632751]  Weight: [ 0.2946099] | [ 1.65796876] | [ 0.0778264]\n",
      "Step: 1000 Cost: 24.1511478424 \n",
      "Prediction:\n",
      " [ 158.58895874  179.80285645  182.97808838  197.45819092  135.72817993]  Weight: [ 0.33994535] | [ 1.6006515] | [ 0.08960984]\n",
      "Step: 1200 Cost: 21.6912631989 \n",
      "Prediction:\n",
      " [ 158.21775818  180.05728149  182.86425781  197.37657166  136.06144714]  Weight: [ 0.38287988] | [ 1.54635262] | [ 0.10078611]\n",
      "Step: 1400 Cost: 19.483997345 \n",
      "Prediction:\n",
      " [ 157.86607361  180.29826355  182.75637817  197.29927063  136.37709045]  Weight: [ 0.42353931] | [ 1.49491417] | [ 0.11138677]\n",
      "Step: 1600 Cost: 17.5035171509 \n",
      "Prediction:\n",
      " [ 157.53295898  180.52655029  182.65420532  197.22610474  136.67608643]  Weight: [ 0.46204406] | [ 1.44618487] | [ 0.12144222]\n",
      "Step: 1800 Cost: 15.7264556885 \n",
      "Prediction:\n",
      " [ 157.21740723  180.74281311  182.55743408  197.15681458  136.95930481]  Weight: [ 0.49850798] | [ 1.40002131] | [ 0.13098137]\n",
      "Step: 2000 Cost: 14.131980896 \n",
      "Prediction:\n",
      " [ 156.91848755  180.94767761  182.46572876  197.09120178  137.2275238 ]  Weight: [ 0.53303891] | [ 1.35628879] | [ 0.14003097]\n"
     ]
    }
   ],
   "source": [
    "# Launch the graph in a session.\n",
    "sess = tf.Session()\n",
    "# Initializes global variables in the graph.\n",
    "sess.run(tf.global_variables_initializer())\n",
    "\n",
    "for step in range(2001):\n",
    "    cost_val, hy_val, _ = sess.run([cost, hypothesis, train],\n",
    "                                   feed_dict={x1: x1_data, x2: x2_data, x3: x3_data, Y: y_data})\n",
    "    if step % 200 == 0:\n",
    "        print(\"Step: {} Cost: {} \\nPrediction:\\n {}  Weight: {} | {} | {}\".format(step, cost_val, hy_val, sess.run(w1), sess.run(w2), sess.run(w3)))"
   ]
  },
  {
   "cell_type": "markdown",
   "metadata": {},
   "source": [
    "---\n",
    "\n",
    "### 4.2. with Matrix\n",
    "\n",
    "#### 4.2.1. Build - init"
   ]
  },
  {
   "cell_type": "code",
   "execution_count": 28,
   "metadata": {},
   "outputs": [],
   "source": [
    "x_data = [[73., 80., 75.],\n",
    "          [93., 88., 93.],\n",
    "          [89., 91., 90.],\n",
    "          [96., 98., 100.],\n",
    "          [73., 66., 70.]]\n",
    "y_data = [[152.],\n",
    "          [185.],\n",
    "          [180.],\n",
    "          [196.],\n",
    "          [142.]]\n",
    "\n",
    "# placeholders for a tensor that will be always fed.\n",
    "X = tf.placeholder(tf.float32, shape=[None, 3]) ### n X 3\n",
    "Y = tf.placeholder(tf.float32, shape=[None, 1]) ### n X 1\n",
    "\n",
    "W = tf.Variable(tf.random_normal([3, 1]), name='weight') ### (n X 3) X () = (n X 1)\n",
    "b = tf.Variable(tf.random_normal([1]), name='bias')\n",
    "\n",
    "# Hypothesis\n",
    "hypothesis = tf.matmul(X, W) + b"
   ]
  },
  {
   "cell_type": "markdown",
   "metadata": {},
   "source": [
    "위에서 `x1`, `x2`, `x3`로 표시되던 column들이 행렬 형태로 묶여 있는 것을 확인할 수 있다. "
   ]
  },
  {
   "cell_type": "markdown",
   "metadata": {},
   "source": [
    "#### 4.2.2. Build - minimize"
   ]
  },
  {
   "cell_type": "code",
   "execution_count": 29,
   "metadata": {},
   "outputs": [],
   "source": [
    "# Simplified cost/loss function\n",
    "cost = tf.reduce_mean(tf.square(hypothesis - Y))\n",
    "\n",
    "# Minimize\n",
    "optimizer = tf.train.GradientDescentOptimizer(learning_rate=1e-5)\n",
    "train = optimizer.minimize(cost)"
   ]
  },
  {
   "cell_type": "markdown",
   "metadata": {},
   "source": [
    "#### 4.2.3. Run - Graph"
   ]
  },
  {
   "cell_type": "code",
   "execution_count": 31,
   "metadata": {},
   "outputs": [
    {
     "name": "stdout",
     "output_type": "stream",
     "text": [
      "0 Cost: 399874.375 \n",
      "Prediction:\n",
      " [[-410.13574219]\n",
      " [-489.04779053]\n",
      " [-483.70129395]\n",
      " [-530.41278076]\n",
      " [-368.7444458 ]]\n",
      "200 Cost: 4.36271762848 \n",
      "Prediction:\n",
      " [[ 151.05220032]\n",
      " [ 185.26654053]\n",
      " [ 180.81062317]\n",
      " [ 193.22831726]\n",
      " [ 145.53622437]]\n",
      "400 Cost: 4.1537566185 \n",
      "Prediction:\n",
      " [[ 151.14730835]\n",
      " [ 185.1998291 ]\n",
      " [ 180.83784485]\n",
      " [ 193.26283264]\n",
      " [ 145.43623352]]\n",
      "600 Cost: 3.96401286125 \n",
      "Prediction:\n",
      " [[ 151.23707581]\n",
      " [ 185.1368103 ]\n",
      " [ 180.86346436]\n",
      " [ 193.29611206]\n",
      " [ 145.34106445]]\n",
      "800 Cost: 3.79164505005 \n",
      "Prediction:\n",
      " [[ 151.32180786]\n",
      " [ 185.07725525]\n",
      " [ 180.88749695]\n",
      " [ 193.32818604]\n",
      " [ 145.25054932]]\n",
      "1000 Cost: 3.63487696648 \n",
      "Prediction:\n",
      " [[ 151.40171814]\n",
      " [ 185.02099609]\n",
      " [ 180.91011047]\n",
      " [ 193.35913086]\n",
      " [ 145.16441345]]\n",
      "1200 Cost: 3.49209022522 \n",
      "Prediction:\n",
      " [[ 151.47709656]\n",
      " [ 184.96781921]\n",
      " [ 180.93132019]\n",
      " [ 193.38899231]\n",
      " [ 145.08241272]]\n",
      "1400 Cost: 3.36187553406 \n",
      "Prediction:\n",
      " [[ 151.54818726]\n",
      " [ 184.91766357]\n",
      " [ 180.95126343]\n",
      " [ 193.4178772 ]\n",
      " [ 145.00436401]]\n",
      "1600 Cost: 3.24296236038 \n",
      "Prediction:\n",
      " [[ 151.61520386]\n",
      " [ 184.87025452]\n",
      " [ 180.96994019]\n",
      " [ 193.44577026]\n",
      " [ 144.93002319]]\n",
      "1800 Cost: 3.13424110413 \n",
      "Prediction:\n",
      " [[ 151.67840576]\n",
      " [ 184.82550049]\n",
      " [ 180.98742676]\n",
      " [ 193.47273254]\n",
      " [ 144.85923767]]\n",
      "2000 Cost: 3.03465270996 \n",
      "Prediction:\n",
      " [[ 151.73791504]\n",
      " [ 184.78323364]\n",
      " [ 181.00382996]\n",
      " [ 193.49884033]\n",
      " [ 144.79179382]]\n"
     ]
    }
   ],
   "source": [
    "# Launch the graph in a session.\n",
    "sess = tf.Session()\n",
    "# Initializes global variables in the graph.\n",
    "sess.run(tf.global_variables_initializer())\n",
    "\n",
    "for step in range(2001):\n",
    "    cost_val, hy_val, _ = sess.run(\n",
    "        [cost, hypothesis, train], feed_dict={X: x_data, Y: y_data})\n",
    "    if step % 200 == 0:\n",
    "        print(\"{} Cost: {} \\nPrediction:\\n {}\".format(step, cost_val, hy_val))"
   ]
  },
  {
   "cell_type": "code",
   "execution_count": 32,
   "metadata": {},
   "outputs": [
    {
     "data": {
      "text/plain": [
       "array([[ 151.73820496],\n",
       "       [ 184.78303528],\n",
       "       [ 181.00390625],\n",
       "       [ 193.4989624 ],\n",
       "       [ 144.79145813]], dtype=float32)"
      ]
     },
     "execution_count": 32,
     "metadata": {},
     "output_type": "execute_result"
    }
   ],
   "source": [
    "sess.run(hypothesis, feed_dict={X: x_data})"
   ]
  },
  {
   "cell_type": "markdown",
   "metadata": {},
   "source": [
    "[[152.],\n",
    "[185.],\n",
    "[180.],\n",
    "[196.],\n",
    "[142.]]\n",
    "\n",
    "# Quiz! \n",
    "\n",
    "당연히 이번에도 있겠죠! \n",
    "\n",
    "다들 새로운 데이터를 가지고 다변수 선형 회귀모델을 만들어 보도록합시다.\n",
    "\n",
    "준비한 데이터에 관한 설명입니다. \n",
    "\n",
    "> The first column is the size of the house (in square feet) \n",
    "\n",
    "> the second column is the number of bedrooms\n",
    "\n",
    "> the third column is the price of the house.\n",
    "\n",
    "이제 아래 질문에 대한 답을 찾아주세요!"
   ]
  },
  {
   "cell_type": "markdown",
   "metadata": {},
   "source": [
    "+ 위 데이터에 적합한 Weight와 bias를 구하시오"
   ]
  },
  {
   "cell_type": "code",
   "execution_count": 34,
   "metadata": {},
   "outputs": [],
   "source": [
    "### Your Code"
   ]
  },
  {
   "cell_type": "markdown",
   "metadata": {},
   "source": [
    "+ 평방 미터 제곱 값이 `2104`, 방의 갯수가 `3`일 때 에측되는 집값은 얼마입니까?"
   ]
  },
  {
   "cell_type": "code",
   "execution_count": 35,
   "metadata": {},
   "outputs": [],
   "source": [
    "### Your Code"
   ]
  },
  {
   "cell_type": "markdown",
   "metadata": {},
   "source": [
    "\n",
    "## 고생하셨습니다! \n",
    "---"
   ]
  },
  {
   "cell_type": "markdown",
   "metadata": {},
   "source": [
    "## Optional: Feature Scaling and Normal Equation\n",
    "\n",
    "---\n",
    "\n",
    "### 5.1. Feature Scaling \n",
    "\n",
    "> 위의 퀴즈에서 본 것처럼 집 평방 미터 제곱 값과 방의 갯수에 관한 두 Feature는 매우 상이한 범위를 가지고 있다. 그래서 Gradient Descent 방법에서 상당히 많은 시간을 요구하게 된다. 그래서 사용하는 방법이 바로 **Feature Scaling** 이다. 상이한 범위를 가진 데이터들의 범위를 같게 만들어 주어서 더욱 빠르게 수렴하도록 만든다. \n",
    "\n",
    ">> 스케일링 해주는 방법은 데이터들을 각각 해당 열의 평균에서 뺀 값을 해당 열의 표준편차로 나누어주는 방법이 대표적이다. 혹은 최댓 값에서 최솟값을 빼준 값으로 나누어 주어도 무방하다. \n",
    "\n",
    "$$x_1 = \\frac{size(feet^2) - mean(size)}{\\sigma}$$\n",
    "$$x_2 = \\frac{numBedrooms - mean(num)}{\\sigma}$$\n",
    "\n",
    "#### 5.1.1. 데이터 load"
   ]
  },
  {
   "cell_type": "code",
   "execution_count": 33,
   "metadata": {},
   "outputs": [
    {
     "name": "stdout",
     "output_type": "stream",
     "text": [
      "((47, 2), (47, 1))\n"
     ]
    }
   ],
   "source": [
    "import tensorflow as tf\n",
    "import numpy as np\n",
    "\n",
    "tf.set_random_seed(777)\n",
    "\n",
    "# Data Load\n",
    "data = np.loadtxt('data/ex1data2.txt', delimiter=',')\n",
    "\n",
    "X_data = data[:,0:-1]\n",
    "y_data = data[:,[-1]] \n",
    "# y_data = data[:,-1] 차이는 47로 구성된 벡터냐, 아니면 47X1 행렬이냐\n",
    "print(X_data.shape, y_data.shape)"
   ]
  },
  {
   "cell_type": "markdown",
   "metadata": {},
   "source": [
    "#### 5.1.2.  Feature Sacaling 함수\n",
    "\n",
    "+ X의 평균 값 리스트와 표준편차 리스트도 함께 반환"
   ]
  },
  {
   "cell_type": "code",
   "execution_count": 34,
   "metadata": {},
   "outputs": [],
   "source": [
    "from __future__ import division\n",
    "\n",
    "def FeatureScale(data):\n",
    "    data_shape = data.shape\n",
    "    data_mean, data_std = [], []\n",
    "\n",
    "    data_norm = np.zeros(data_shape)   \n",
    "    for i in range(data_shape[1]):\n",
    "        data_i = data[:,i]\n",
    "        m = data_i.mean()\n",
    "        s = data_i.std()\n",
    "        \n",
    "        data_norm[:,i] = (data_i - m)/(s)\n",
    "        data_mean.append(m)\n",
    "        data_std.append(s)\n",
    "        \n",
    "    return data_norm, data_mean, data_std\n",
    "\n",
    "# (X_data - X_data.mean())/X_data.std()\n",
    "X_norm, X_mean, X_std = FeatureScale(X_data)\n",
    "y_norm, y_mean, y_std = FeatureScale(y_data)"
   ]
  },
  {
   "cell_type": "markdown",
   "metadata": {},
   "source": [
    "#### 5.1.3. 학습"
   ]
  },
  {
   "cell_type": "code",
   "execution_count": 35,
   "metadata": {},
   "outputs": [
    {
     "name": "stdout",
     "output_type": "stream",
     "text": [
      "(0, array([[-0.40810791],\n",
      "       [-0.68814003]], dtype=float32), array([ 0.98412555], dtype=float32), 4.2296381)\n",
      "(200, array([[ 0.82691532],\n",
      "       [ 0.00126802]], dtype=float32), array([ 0.01730874], dtype=float32), 0.2701382)\n",
      "(400, array([[ 0.87517917],\n",
      "       [-0.04359798]], dtype=float32), array([ 0.00030442], dtype=float32), 0.26713592)\n",
      "(600, array([[ 0.88313013],\n",
      "       [-0.05154299]], dtype=float32), array([  5.34627270e-06], dtype=float32), 0.26705736)\n",
      "(800, array([[ 0.88448673],\n",
      "       [-0.05289959]], dtype=float32), array([  8.62744827e-08], dtype=float32), 0.26705506)\n",
      "(1000, array([[ 0.88471818],\n",
      "       [-0.05313111]], dtype=float32), array([ -3.25819127e-09], dtype=float32), 0.26705498)\n",
      "(1200, array([[ 0.88475728],\n",
      "       [-0.05317054]], dtype=float32), array([ -1.55982054e-08], dtype=float32), 0.26705498)\n",
      "(1400, array([[ 0.88476354],\n",
      "       [-0.05317702]], dtype=float32), array([ -1.53281139e-08], dtype=float32), 0.26705498)\n",
      "(1600, array([[ 0.88476378],\n",
      "       [-0.05317748]], dtype=float32), array([ -1.49369548e-08], dtype=float32), 0.26705498)\n",
      "(1800, array([[ 0.88476378],\n",
      "       [-0.05317748]], dtype=float32), array([ -1.48996770e-08], dtype=float32), 0.26705498)\n",
      "(2000, array([[ 0.88476378],\n",
      "       [-0.05317748]], dtype=float32), array([ -1.48623993e-08], dtype=float32), 0.26705498)\n"
     ]
    }
   ],
   "source": [
    "X = tf.placeholder(tf.float32, shape = [None, 2])\n",
    "y = tf.placeholder(tf.float32, shape = [None, 1])\n",
    "W = tf.Variable(tf.random_normal([2, 1]), name= 'Weight')\n",
    "b = tf.Variable(tf.random_normal([1]), name= 'bias')\n",
    "\n",
    "# Build \n",
    "\n",
    "h = tf.matmul(X, W) + b\n",
    "\n",
    "cost = tf.reduce_mean(tf.square(h - y))\n",
    "# 3e-3\n",
    "# 1e-10\n",
    "optimizer = tf.train.GradientDescentOptimizer(learning_rate=0.01)\n",
    "train = optimizer.minimize(cost)\n",
    "\n",
    "# Run\n",
    "sess = tf.Session()\n",
    "sess.run(tf.global_variables_initializer())\n",
    "\n",
    "for step in range(2001):\n",
    "    sess.run(train, feed_dict= {X: X_norm, y: y_norm})\n",
    "    if step % 200 == 0:\n",
    "        print(step, sess.run(W), sess.run(b), sess.run(cost, feed_dict= {X: X_norm, y: y_norm}))"
   ]
  },
  {
   "cell_type": "markdown",
   "metadata": {},
   "source": [
    "#### 5.1.4. Prediction\n",
    "\n",
    "- **input** 값을 Feature Scaling 형태로 입력"
   ]
  },
  {
   "cell_type": "code",
   "execution_count": 36,
   "metadata": {},
   "outputs": [
    {
     "name": "stdout",
     "output_type": "stream",
     "text": [
      "[[ 0.13141542 -0.22609337]]\n",
      "(array([[ 0.12829466]], dtype=float32), array([[ 0.88476378],\n",
      "       [-0.05317748]], dtype=float32))\n"
     ]
    }
   ],
   "source": [
    "# Build\n",
    "\n",
    "X_test = np.array([[2104, 3]])\n",
    "X_test= (X_test- X_mean)/X_std\n",
    "print(X_test)\n",
    "\n",
    "# Run\n",
    "print(sess.run(h, feed_dict= {X: X_test} ), sess.run(W))"
   ]
  },
  {
   "cell_type": "markdown",
   "metadata": {},
   "source": [
    "+ **Prediction** 값이 스케일링 되어 있으므로, 다시 원 값으로 돌림"
   ]
  },
  {
   "cell_type": "code",
   "execution_count": 38,
   "metadata": {},
   "outputs": [
    {
     "data": {
      "text/plain": [
       "356283.03437251452"
      ]
     },
     "execution_count": 38,
     "metadata": {},
     "output_type": "execute_result"
    }
   ],
   "source": [
    "prediction = 0.12829466*y_std[0] + y_mean[0]\n",
    "\n",
    "# prediction - 399900\n",
    "prediction "
   ]
  },
  {
   "cell_type": "markdown",
   "metadata": {},
   "source": [
    "---\n",
    "\n",
    "### 5.2. Normal Equation \n",
    "\n",
    "> 행렬의 역행렬을 이용하면 Gradient Descent 없이도 바로 Weight 값을 구할 수 있다는 놀라운 사실\n",
    "\n",
    ">> 하지만 n^3의 컴퓨팅 파워가 소모\n",
    "\n",
    "$$ X\\theta = y$$\n",
    "\n",
    "$$ \\theta = (X^TX)^{-1}X^Ty$$"
   ]
  },
  {
   "cell_type": "code",
   "execution_count": 41,
   "metadata": {},
   "outputs": [],
   "source": [
    "import numpy as np\n",
    "\n",
    "data = np.loadtxt('data/ex1data2.txt', delimiter=',')\n",
    "\n",
    "X_data = data[:,0:-1] ### 47 X 3 -> Transpose 3 X 47\n",
    "y_data = data[:,[-1]] \n",
    "\n",
    "# x_data = np.array([[73., 80., 75.],\n",
    "#                    [93., 88., 93.],\n",
    "#                    [89., 91., 90.],\n",
    "#                    [96., 98., 100.],\n",
    "#                    [73., 66., 70.]])\n",
    "# y_data = np.array([[152.],\n",
    "#                    [185.],\n",
    "#                    [180.],\n",
    "#                    [196.],\n",
    "#                    [142.]])\n",
    "\n",
    "x_inv = np.linalg.pinv(X_data)\n",
    "\n",
    "# theta = x_inv.dot(y_data)\n",
    "theta = np.linalg.pinv(X_data.T.dot(X_data)).dot(X_data.T.dot(y_data))"
   ]
  },
  {
   "cell_type": "code",
   "execution_count": 42,
   "metadata": {},
   "outputs": [
    {
     "data": {
      "text/plain": [
       "array([[ 334628.80080581]])"
      ]
     },
     "execution_count": 42,
     "metadata": {},
     "output_type": "execute_result"
    }
   ],
   "source": [
    "np.array([[2014, 3]]).dot(theta)"
   ]
  }
 ],
 "metadata": {
  "kernelspec": {
   "display_name": "Python 3",
   "language": "python",
   "name": "python3"
  },
  "language_info": {
   "codemirror_mode": {
    "name": "ipython",
    "version": 2
   },
   "file_extension": ".py",
   "mimetype": "text/x-python",
   "name": "python",
   "nbconvert_exporter": "python",
   "pygments_lexer": "ipython2",
   "version": "2.7.12"
  }
 },
 "nbformat": 4,
 "nbformat_minor": 2
}
